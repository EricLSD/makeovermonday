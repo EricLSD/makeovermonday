{
  "nbformat": 4,
  "nbformat_minor": 0,
  "metadata": {
    "colab": {
      "name": "2020W5:Brexit Bond.ipynb",
      "provenance": [],
      "private_outputs": true,
      "authorship_tag": "ABX9TyMFhHDm34QkDsjWNH4lfXVD",
      "include_colab_link": true
    },
    "kernelspec": {
      "name": "python3",
      "display_name": "Python 3"
    }
  },
  "cells": [
    {
      "cell_type": "markdown",
      "metadata": {
        "id": "view-in-github",
        "colab_type": "text"
      },
      "source": [
        "<a href=\"https://colab.research.google.com/github/EricLSD/makeovermonday/blob/master/2020W5_Brexit_Bond.ipynb\" target=\"_parent\"><img src=\"https://colab.research.google.com/assets/colab-badge.svg\" alt=\"Open In Colab\"/></a>"
      ]
    },
    {
      "cell_type": "code",
      "metadata": {
        "id": "964gSKS8u-r0",
        "colab_type": "code",
        "colab": {}
      },
      "source": [
        "import pandas as pd\n",
        "import numpy as np\n",
        "import matplotlib.pyplot as plt\n",
        "import seaborn as sns"
      ],
      "execution_count": 0,
      "outputs": []
    },
    {
      "cell_type": "markdown",
      "metadata": {
        "id": "Y1F5U4cu37vh",
        "colab_type": "text"
      },
      "source": [
        "### Run the next cell if you want to save a the chart as png."
      ]
    },
    {
      "cell_type": "code",
      "metadata": {
        "id": "3XSoXwR_1KSC",
        "colab_type": "code",
        "colab": {}
      },
      "source": [
        "from google.colab import drive \n",
        "drive.mount('/content/gdrive')"
      ],
      "execution_count": 0,
      "outputs": []
    },
    {
      "cell_type": "code",
      "metadata": {
        "id": "m2nxrT8ZvX36",
        "colab_type": "code",
        "colab": {}
      },
      "source": [
        "df = pd.read_excel('https://query.data.world/s/jkad5q3k53ihtjtdfeyhjybtptbdjq')"
      ],
      "execution_count": 0,
      "outputs": []
    },
    {
      "cell_type": "code",
      "metadata": {
        "id": "j6o72dDibT8z",
        "colab_type": "code",
        "colab": {}
      },
      "source": [
        "df.columns"
      ],
      "execution_count": 0,
      "outputs": []
    },
    {
      "cell_type": "code",
      "metadata": {
        "id": "0k4Xgq_qv93o",
        "colab_type": "code",
        "colab": {}
      },
      "source": [
        "df.Category.unique()"
      ],
      "execution_count": 0,
      "outputs": []
    },
    {
      "cell_type": "code",
      "metadata": {
        "id": "jdFgu_Nvv7Vx",
        "colab_type": "code",
        "colab": {}
      },
      "source": [
        "pos = 1\n",
        "plt.figure(figsize=(15,15))\n",
        "plt.suptitle('Can The Next Bond Be....', \n",
        "             y=.95, \n",
        "             va='top',\n",
        "             ha='right',\n",
        "             fontsize=32, \n",
        "             bbox={'facecolor':'none','alpha':0.7, 'pad':6})\n",
        "for c in df.Category.unique():\n",
        "  plt.subplot(2,2,pos)\n",
        "  plt.grid(which='major', \n",
        "           axis='x', \n",
        "           c='lightgray', \n",
        "           zorder=0)\n",
        "  plt.title(c)\n",
        "  cat = df[df.Category == c].drop(columns=['Category'])\n",
        "  dft = cat.melt('Response', var_name='Remain_Leave', value_name='Number')\n",
        "  sns.barplot(x='Number', \n",
        "              y='Remain_Leave', \n",
        "              hue='Response', \n",
        "              data=dft, \n",
        "              orient='h', \n",
        "              palette='colorblind', \n",
        "              zorder=1)\n",
        "  plt.legend().set_visible(False)\n",
        "  plt.ylabel('Remain or Leave the EU')\n",
        "  \n",
        "  if pos == 2 or pos == 4:\n",
        "    plt.ylabel(None)\n",
        "    plt.yticks([])\n",
        "\n",
        "  if pos == 2: \n",
        "    plt.legend(frameon=True, \n",
        "             loc='upper right',\n",
        "             bbox_to_anchor=(1.3, 1.02), \n",
        "             title='Responses',\n",
        "             shadow=True,\n",
        "             title_fontsize='x-large')\n",
        "  if pos < 4:\n",
        "    pos += 1\n",
        "plt.show()\n",
        "  "
      ],
      "execution_count": 0,
      "outputs": []
    },
    {
      "cell_type": "markdown",
      "metadata": {
        "id": "z-7GuIhP4Gf7",
        "colab_type": "text"
      },
      "source": [
        "### Run the next cell to save chart."
      ]
    },
    {
      "cell_type": "code",
      "metadata": {
        "id": "jt6eFZ_p4Lln",
        "colab_type": "code",
        "colab": {}
      },
      "source": [
        "plt.savefig('gdrive/My Drive/Data Science/Makeover Monday/2020W5_BrexitBond.png')"
      ],
      "execution_count": 0,
      "outputs": []
    },
    {
      "cell_type": "markdown",
      "metadata": {
        "id": "ZyffS5qzSk9P",
        "colab_type": "text"
      },
      "source": [
        "## Another Approach\n",
        "### Though haven't yet figured out how to unstack the bars."
      ]
    },
    {
      "cell_type": "code",
      "metadata": {
        "id": "BHMoNS_G-cy1",
        "colab_type": "code",
        "colab": {}
      },
      "source": [
        "dfn = df.melt(['Category', 'Response'], var_name='Remain_Leave', value_name='Number')"
      ],
      "execution_count": 0,
      "outputs": []
    },
    {
      "cell_type": "code",
      "metadata": {
        "id": "AXkT4wNd-x3z",
        "colab_type": "code",
        "colab": {}
      },
      "source": [
        "g = sns.FacetGrid(dfn, col='Category', hue='Response', \n",
        "                  col_wrap=2,\n",
        "                  palette='colorblind',\n",
        "                  legend_out=True,\n",
        "                  height=5)\n",
        "g.map(plt.barh,\n",
        "      'Remain_Leave', \n",
        "      'Number').add_legend()\n",
        "g.fig.suptitle('Can The Next Bond Be....',\n",
        "               y=1.05,\n",
        "               va='top',\n",
        "               ha='right',\n",
        "               fontsize=32)\n",
        "plt.xlabel(\"Remain in EU Or Leave\")\n",
        "plt.show()"
      ],
      "execution_count": 0,
      "outputs": []
    },
    {
      "cell_type": "code",
      "metadata": {
        "id": "e2xbhgQERpy_",
        "colab_type": "code",
        "colab": {}
      },
      "source": [
        ""
      ],
      "execution_count": 0,
      "outputs": []
    }
  ]
}